{
  "cells": [
    {
      "cell_type": "code",
      "execution_count": null,
      "id": "26be09bc",
      "metadata": {
        "colab": {
          "base_uri": "https://localhost:8080/"
        },
        "id": "26be09bc",
        "outputId": "de4e9de0-2396-485e-d940-9c46ae08201e"
      },
      "outputs": [],
      "source": [
        "%pip install ultralytics\n",
        "%pip install supervision"
      ]
    },
    {
      "cell_type": "code",
      "execution_count": null,
      "id": "99ded8b4",
      "metadata": {
        "colab": {
          "base_uri": "https://localhost:8080/"
        },
        "id": "99ded8b4",
        "outputId": "33b17200-3578-45ed-ad89-ba33e2536c07"
      },
      "outputs": [],
      "source": [
        "import numpy as np\n",
        "import os\n",
        "from ultralytics import YOLO\n",
        "import supervision as sv"
      ]
    },
    {
      "cell_type": "markdown",
      "id": "u3gr8uwUW-f_",
      "metadata": {
        "id": "u3gr8uwUW-f_"
      },
      "source": [
        "# Only on Google colab"
      ]
    },
    {
      "cell_type": "code",
      "execution_count": null,
      "id": "gHbxrXQUXWl9",
      "metadata": {
        "colab": {
          "base_uri": "https://localhost:8080/"
        },
        "id": "gHbxrXQUXWl9",
        "outputId": "ca40f4a7-432a-421b-ff0d-57ba23f21d13"
      },
      "outputs": [],
      "source": [
        "!git clone https://github.com/DanielLankry/Football-Vision-Stats-ML"
      ]
    },
    {
      "cell_type": "code",
      "execution_count": null,
      "id": "JrPn__37Wlmk",
      "metadata": {
        "colab": {
          "base_uri": "https://localhost:8080/"
        },
        "id": "JrPn__37Wlmk",
        "outputId": "a98dcb6c-637c-4691-f549-5f62e3abf93f"
      },
      "outputs": [],
      "source": [
        "os.chdir('/content/Football-Vision-Stats-ML')\n",
        "!pwd\n",
        "os.chdir('Football Advanced stats with python')\n",
        "!pwd\n",
        "!ls"
      ]
    },
    {
      "cell_type": "code",
      "execution_count": null,
      "id": "0d5c74ec",
      "metadata": {
        "colab": {
          "base_uri": "https://localhost:8080/",
          "height": 403
        },
        "id": "0d5c74ec",
        "outputId": "065e7630-260c-49e8-e0ba-203cc348cb8d"
      },
      "outputs": [],
      "source": [
        "PLAYER_DETECTION_MODEL = YOLO(\"yolo11m.pt\")\n",
        "SOURCE_VIDEO_PATH = \"121364_0.mp4\"\n",
        "\n",
        "frame_generator = sv.get_video_frames_generator(SOURCE_VIDEO_PATH)\n",
        "frame = next(frame_generator)\n",
        "\n",
        "sv.plot_image(frame)"
      ]
    },
    {
      "cell_type": "code",
      "execution_count": null,
      "id": "4263892e",
      "metadata": {
        "collapsed": true,
        "id": "4263892e",
        "outputId": "e910d204-09b1-4771-dfce-6510eaac3fd8"
      },
      "outputs": [],
      "source": [
        "\n",
        "tracker = sv.ByteTrack()\n",
        "\n",
        "video_info = sv.VideoInfo.from_video_path(SOURCE_VIDEO_PATH)\n",
        "frame_generator = sv.get_video_frames_generator(SOURCE_VIDEO_PATH)\n",
        "frame = next(frame_generator)\n",
        "\n",
        "bounding_box = sv.BoxAnnotator()\n",
        "label = sv.LabelAnnotator()\n",
        "trace_annotator = sv.TraceAnnotator()\n",
        "\n",
        "\n",
        "\n",
        "def callback(frame: np.ndarray, _: int) -> np.ndarray:\n",
        "    results = PLAYER_DETECTION_MODEL(frame)[0]\n",
        "    detections = sv.Detections.from_ultralytics(results)\n",
        "\n",
        "    tracked_pos = tracker.update_with_detections(detections)\n",
        "\n",
        "    labels = [\n",
        "        f\"#{tracker_id} {class_name}\"\n",
        "        for class_name, tracker_id\n",
        "        in zip(detections.data[\"class_name\"], detections.tracker_id)\n",
        "    ]\n",
        "\n",
        "    annotated_frame = bounding_box.annotate(\n",
        "        frame.copy(), detections=detections)\n",
        "    annotated_frame = label.annotate(\n",
        "        annotated_frame, detections=detections, labels=labels)\n",
        "    return trace_annotator.annotate(\n",
        "        annotated_frame, detections=detections)\n",
        "\n",
        "sv.process_video(source_path=SOURCE_VIDEO_PATH,\n",
        "                target_path=\"results.mp4\",\n",
        "                callback=callback)\n"
      ]
    },
    {
      "cell_type": "markdown",
      "id": "2ed7c5ca",
      "metadata": {},
      "source": [
        "---"
      ]
    },
    {
      "cell_type": "markdown",
      "id": "15153f09",
      "metadata": {
        "id": "15153f09"
      },
      "source": [
        "# Traning The Model"
      ]
    },
    {
      "cell_type": "markdown",
      "id": "8lwE6dyUYhVO",
      "metadata": {
        "id": "8lwE6dyUYhVO"
      },
      "source": [
        "## Only on colab"
      ]
    },
    {
      "cell_type": "code",
      "execution_count": null,
      "id": "7Cy69r4HYeiP",
      "metadata": {
        "colab": {
          "base_uri": "https://localhost:8080/"
        },
        "id": "7Cy69r4HYeiP",
        "outputId": "86157452-9b11-4b51-de62-a73dd5dddc33"
      },
      "outputs": [],
      "source": [
        "# Update Players_data.yaml with correct Colab paths\n",
        "yaml_content = \"\"\"train: /content/Football-Vision-Stats-ML/Football Advanced stats with python/football-players-detection/train\n",
        "val: /content/Football-Vision-Stats-ML/Football Advanced stats with python/football-players-detection/valid\n",
        "test: /content/Football-Vision-Stats-ML/Football Advanced stats with python/football-players-detection/test\n",
        "\n",
        "nc: 4\n",
        "names: ['ball', 'goalkeeper', 'player', 'referee']\n",
        "\"\"\"\n",
        "\n",
        "# Write the corrected YAML file\n",
        "with open('Players_data.yaml', 'w') as f:\n",
        "    f.write(yaml_content)\n",
        "\n",
        "# Verify the fix\n",
        "print(\"Updated YAML file:\")\n",
        "!cat Players_data.yaml"
      ]
    },
    {
      "cell_type": "code",
      "execution_count": null,
      "id": "281af83f",
      "metadata": {
        "colab": {
          "base_uri": "https://localhost:8080/"
        },
        "id": "281af83f",
        "outputId": "1dbca9ad-559a-46b4-9912-a27500767b43"
      },
      "outputs": [],
      "source": [
        "results = PLAYER_DETECTION_MODEL.train(data=\"Players_data.yaml\",\n",
        "                                      epochs=150,\n",
        "                                      imgsz=640)"
      ]
    },
    {
      "cell_type": "code",
      "execution_count": null,
      "id": "oR_CBGAk9xe-",
      "metadata": {
        "colab": {
          "base_uri": "https://localhost:8080/"
        },
        "id": "oR_CBGAk9xe-",
        "outputId": "9e01799c-f2b3-4e47-9eeb-a07ba3b9b3ee"
      },
      "outputs": [],
      "source": [
        "from google.colab import drive\n",
        "drive.mount('/content/drive')"
      ]
    },
    {
      "cell_type": "code",
      "execution_count": null,
      "id": "RHzgLq-p6HCu",
      "metadata": {
        "colab": {
          "base_uri": "https://localhost:8080/"
        },
        "id": "RHzgLq-p6HCu",
        "outputId": "cdda948f-4b70-4171-afd7-dca92cde127e"
      },
      "outputs": [],
      "source": [
        "!ls runs/detect/\n"
      ]
    },
    {
      "cell_type": "markdown",
      "id": "370ca229",
      "metadata": {},
      "source": [
        "---"
      ]
    },
    {
      "cell_type": "code",
      "execution_count": null,
      "id": "282bd2dc",
      "metadata": {},
      "outputs": [],
      "source": [
        "TRAINED_DETECTION_MODEL = YOLO(\"runs/detect/train/weights/best.pt\")\n",
        "\n"
      ]
    }
  ],
  "metadata": {
    "accelerator": "GPU",
    "colab": {
      "gpuType": "T4",
      "provenance": []
    },
    "kernelspec": {
      "display_name": "Python 3",
      "name": "python3"
    },
    "language_info": {
      "codemirror_mode": {
        "name": "ipython",
        "version": 3
      },
      "file_extension": ".py",
      "mimetype": "text/x-python",
      "name": "python",
      "nbconvert_exporter": "python",
      "pygments_lexer": "ipython3",
      "version": "3.13.5"
    }
  },
  "nbformat": 4,
  "nbformat_minor": 5
}
